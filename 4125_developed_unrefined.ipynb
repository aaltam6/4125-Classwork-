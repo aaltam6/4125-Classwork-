{
 "cells": [
  {
   "cell_type": "code",
   "execution_count": 1,
   "id": "31b83595",
   "metadata": {},
   "outputs": [],
   "source": [
    "import mysql.connector\n",
    "#from mechanize import Browser\n",
    "#br = Browser()\n",
    "import asyncio\n",
    "from chatgpt_wrapper import ChatGPT\n",
    "import tkinter as tk\n",
    "from tkinter import messagebox\n",
    "from tkinter import *\n",
    "import smtplib\n",
    "from email.message import EmailMessage\n",
    "from email.mime.text import MIMEText"
   ]
  },
  {
   "cell_type": "code",
   "execution_count": 2,
   "id": "9f4d66e9",
   "metadata": {},
   "outputs": [],
   "source": [
    "#cnx = mysql.connector.connect(user='root', password='Tootie2001',\n",
    "                              #host='localhost',\n",
    "                              #database='capstone')\n",
    "#cursor = cnx.cursor()"
   ]
  },
  {
   "cell_type": "code",
   "execution_count": 3,
   "id": "d753ade7",
   "metadata": {},
   "outputs": [],
   "source": [
    "#query = (\"SELECT * FROM customer\")\n",
    "#print(cursor.execute(query))"
   ]
  },
  {
   "cell_type": "code",
   "execution_count": 4,
   "id": "afa0b59e",
   "metadata": {},
   "outputs": [],
   "source": [
    "#cursor.close()\n",
    "#cnx.close()"
   ]
  },
  {
   "cell_type": "code",
   "execution_count": 5,
   "id": "802f43a6",
   "metadata": {},
   "outputs": [],
   "source": [
    "#cnx = mysql.connector.connect(user='root',password='Tootie2001', database='capstone')"
   ]
  },
  {
   "cell_type": "code",
   "execution_count": 6,
   "id": "a6e169e9",
   "metadata": {},
   "outputs": [],
   "source": [
    "#cursor = cnx.cursor()\n",
    "#query =(\"INSERT INTO customer\"\n",
    "        #\"(CustomerID,Fname,Lname)\"\n",
    "        #\"VALUES ('C999','Eric','Ross')\")\n",
    "#cursor.execute(query)\n",
    "#query2 = (\"SELECT CustomerID,Fname,Lname FROM customer\")\n",
    "#cursor.execute(query2)"
   ]
  },
  {
   "cell_type": "code",
   "execution_count": 7,
   "id": "19bdfcc7",
   "metadata": {},
   "outputs": [],
   "source": [
    "#for (CustomerID,Fname,Lname) in cursor:\n",
    "    #print(\"CustID: {}, {}, {}  \".format(\n",
    "    #CustomerID,Fname,Lname))"
   ]
  },
  {
   "cell_type": "code",
   "execution_count": 8,
   "id": "07c0c8d3",
   "metadata": {},
   "outputs": [],
   "source": [
    "#cursor.close()\n",
    "#cnx.close()"
   ]
  },
  {
   "cell_type": "code",
   "execution_count": 9,
   "id": "366b1aa0",
   "metadata": {},
   "outputs": [],
   "source": [
    "#bot = ChatGPT()\n",
    "# return the full result\n",
    "#response = bot.ask(\"tell me a story about cats and dogs\")\n",
    "#print(response)"
   ]
  },
  {
   "cell_type": "code",
   "execution_count": 10,
   "id": "7ae0ac63",
   "metadata": {},
   "outputs": [],
   "source": [
    "#inlist = ['City Slice','Excellent atmosphere','Good portion sizes','No wait times','Waiters were nice']\n",
    "#bot = ChatGPT()\n",
    "#response = asyncio.run(bot.ask(\"Assume your name is John Wittmore. Write me a resturant review, written for {} resturant based on these keywords {},{},{},{}\".format(*(x for x in inlist))))\n",
    "#print(response)"
   ]
  },
  {
   "cell_type": "code",
   "execution_count": 11,
   "id": "ba77f117",
   "metadata": {},
   "outputs": [],
   "source": [
    "#GUI Generation \n",
    "    #User input \n",
    "        #chat.gpt() and asyncio inputs\n",
    "        #MySQL read-in for storage \n",
    "            #return approval prompt \n",
    "            #if yes, send email FIGURE OUT EMAIL DISTRIBUTION \n",
    "            #if no, re-run inputs."
   ]
  },
  {
   "cell_type": "code",
   "execution_count": 12,
   "id": "6538f88d",
   "metadata": {},
   "outputs": [],
   "source": [
    "#def approve(response,loc,order,name):\n",
    "        #cnx = mysql.connector.connect(user='root',password='Tootie2001', database='target')\n",
    "        #cursor = cnx.cursor()\n",
    "        #(\"INSERT INTO favourite (number, info) VALUES (%s, %s)\", (numbers, animals))\n",
    "        #query =(\"INSERT INTO mealExp(feedback,itemOrdered,custName,location) VALUES (%(x)s,%(y)s,%(z)s,%(w)s)\")\n",
    "        #values = {'x':'response','y':'order','z':'name','w':'loc'}\n",
    "        #cursor.execute(query,values)\n",
    "        #cursor.close()\n",
    "        #cnx.commit()\n",
    "        #cnx.close()"
   ]
  },
  {
   "cell_type": "code",
   "execution_count": 13,
   "id": "ecf5d5ed",
   "metadata": {},
   "outputs": [],
   "source": [
    "#response = 'Very Good Very Good!'\n",
    "#order = 'Pizza'\n",
    "#name = 'Ray Allen'\n",
    "#loc = 'City Slice'"
   ]
  },
  {
   "cell_type": "code",
   "execution_count": 14,
   "id": "acac614f",
   "metadata": {},
   "outputs": [],
   "source": [
    "#cnx = mysql.connector.connect(user='root',password='Tootie2001', database='target')\n",
    "#cursor = cnx.cursor()\n",
    "#(\"INSERT INTO favourite (number, info) VALUES (%s, %s)\", (numbers, animals))\n",
    "#query =(\"INSERT INTO mealExp(feedback,itemOrdered,custName,location) VALUES (%(x)s,%(y)s,%(z)s,%(w)s)\")\n",
    "#values = {'x':'response','y':'order','z':'name','w':'loc'}\n",
    "#cursor.execute(query,values)\n",
    "#cursor.close()\n",
    "#cnx.commit()\n",
    "#cnx.close()"
   ]
  },
  {
   "cell_type": "code",
   "execution_count": 15,
   "id": "e31c426a",
   "metadata": {},
   "outputs": [],
   "source": [
    "def mail(resp):\n",
    "    email_address = \"arturoaltamirano641@gmail.com\"\n",
    "    email_password = \"OMMITED FOR COMMIT\"\n",
    "\n",
    "    msg = EmailMessage()\n",
    "    msg.set_content(\"Please copy and paste the included review about your dining experience at City Slice.\\n{}\".format(MIMEText(resp)))\n",
    "    msg['Subject'] = \"Auto-Generated Message\"\n",
    "    msg['From'] = \"arturoaltamirano641@gmail.com\"\n",
    "    msg['To'] = \"aaltam6@lsu.edu\"\n",
    "    \n",
    "    with smtplib.SMTP_SSL('smtp.gmail.com', 465) as smtp:\n",
    "        smtp.login(email_address, email_password)\n",
    "        smtp.send_message(msg)"
   ]
  },
  {
   "cell_type": "code",
   "execution_count": 16,
   "id": "bbf50bb3",
   "metadata": {
    "scrolled": false
   },
   "outputs": [],
   "source": [
    "#cnx = mysql.connector.connect(user='root',password='Tootie2001', database='target')\n",
    "#cursor = cnx.cursor()\n",
    "#query2 = (\"SELECT Feedback,ItemOrdered,CustName,Location FROM mealExp\")\n",
    "#cursor.execute(query2)\n",
    "#for (Feedback,ItemOrdered,CustName,Location) in cursor:\n",
    "    #print(\"{},{},{},{}\".format(\n",
    "    #Feedback,ItemOrdered,CustName,Location))\n",
    "#cursor.close()\n",
    "#cnx.close()"
   ]
  },
  {
   "cell_type": "code",
   "execution_count": null,
   "id": "3496f4a5",
   "metadata": {},
   "outputs": [
    {
     "name": "stderr",
     "output_type": "stream",
     "text": [
      "2023-03-01 16:14:34.683 python[90261:5267108] Warning: Expected min height of view: (<NSButton: 0x7ff5c9be28f0>) to be less than or equal to 30 but got a height of 32.000000. This error will be logged once per view in violation.\n",
      "2023-03-01 16:14:34.685 python[90261:5267108] Warning: Expected min height of view: (<NSButton: 0x7ff5cfcab8e0>) to be less than or equal to 30 but got a height of 32.000000. This error will be logged once per view in violation.\n"
     ]
    }
   ],
   "source": [
    "def __main__(): \n",
    "    window=tk.Tk()\n",
    "    window.geometry(\"1600x800\")\n",
    "    window.title(\"City Group Inputs\")\n",
    "    \n",
    "    location_name = tk.Label(text = \"Enter location.\")\n",
    "    location_name.grid(column=0,row=1)\n",
    "    \n",
    "    manager_name = tk.Label(text = \"Enter your name.\")\n",
    "    manager_name.grid(column=0,row=2)\n",
    "    \n",
    "    customer_name = tk.Label(text = \"Enter the name of the customer\")\n",
    "    customer_name.grid(column=0,row=3)\n",
    "    \n",
    "    order_name = tk.Label(text = \"Enter order.\")\n",
    "    order_name.grid(column=0,row=4)\n",
    "    \n",
    "    descriptor_1 = tk.Label(text = \"Please enter the first descriptor\")\n",
    "    descriptor_1.grid(column=0,row=5)\n",
    "    \n",
    "    descriptor_2 = tk.Label(text = \"Please enter the second descriptor\")\n",
    "    descriptor_2.grid(column=0,row=6)\n",
    "    \n",
    "    descriptor_3 = tk.Label(text = \"Please enter the third descriptor\")\n",
    "    descriptor_3.grid(column=0,row=7)\n",
    "    \n",
    "    message = tk.Label(text = \"Upon entering, you will be prompted to approve or deny the message to be sent.\")\n",
    "    message.grid(column=0,row=8)\n",
    "\n",
    "    loc_Entry = tk.Entry()\n",
    "    loc_Entry.grid(column=1,row=1)\n",
    "    \n",
    "    man_Entry = tk.Entry()\n",
    "    man_Entry.grid(column=1,row=2)\n",
    "    \n",
    "    cust_Entry = tk.Entry()\n",
    "    cust_Entry.grid(column=1,row=3)\n",
    "    \n",
    "    order_Entry = tk.Entry()\n",
    "    order_Entry.grid(column=1,row=4)\n",
    "    \n",
    "    desc1_Entry = tk.Entry()\n",
    "    desc1_Entry.grid(column=1,row=5)\n",
    "    \n",
    "    desc2_Entry = tk.Entry()\n",
    "    desc2_Entry.grid(column=1,row=6)\n",
    "    \n",
    "    desc3_Entry = tk.Entry()\n",
    "    desc3_Entry.grid(column=1,row=7)\n",
    "    \n",
    "    def approve(response,loc,order,name):\n",
    "        cnx = mysql.connector.connect(user='root',password='Tootie2001', database='target')\n",
    "        cursor = cnx.cursor()\n",
    "        #(\"INSERT INTO favourite (number, info) VALUES (%s, %s)\", (numbers, animals))\n",
    "        query =(\"INSERT INTO mealExp(feedback,itemOrdered,custName,location) VALUES (%(x)s,%(y)s,%(z)s,%(w)s)\")\n",
    "        values = {'x':response,'y':order,'z':name,'w':loc}\n",
    "        cursor.execute(query,values)\n",
    "        cursor.close()\n",
    "        cnx.commit()\n",
    "        cnx.close()\n",
    "    \n",
    "    def operate():\n",
    "        desc_list = [loc_Entry.get(),desc1_Entry.get(),desc2_Entry.get(),desc3_Entry.get()]\n",
    "        bot = ChatGPT()\n",
    "        response = asyncio.run(bot.ask(\"Write a short one paragraph review for a restaurant named {} based on these keywords {},{},{}\".format(*(x for x in desc_list))))\n",
    "        approval = tk.messagebox.askyesno(title='Approval', message=response)\n",
    "        if approval:\n",
    "            approve(response,loc_Entry.get(),order_Entry.get(),cust_Entry.get())\n",
    "            mail(response)\n",
    "        else:\n",
    "            pass\n",
    "\n",
    "    def clear_text():\n",
    "        loc_Entry.delete(0, END)\n",
    "        man_Entry.delete(0,END)\n",
    "        cust_Entry.delete(0, END)\n",
    "        order_Entry.delete(0,END)\n",
    "        desc1_Entry.delete(0, END)\n",
    "        desc2_Entry.delete(0, END)\n",
    "        desc3_Entry.delete(0, END)\n",
    "    \n",
    "    #button=tk.Button(window,text=\"Filter\",command=lambda:[initiator(), clear_text()])\n",
    "    button=tk.Button(window,text=\"Run\",command=lambda:[operate(),clear_text()])\n",
    "    button.grid(column=1,row=8)\n",
    "    #destroy=tk.Button(window, text =\"Quit\", command = window.destroy)\n",
    "    #destroy.grid(column=1,row=8)\n",
    "    \n",
    "    window.mainloop()\n",
    "\n",
    "if __name__ == '__main__':\n",
    "    __main__()"
   ]
  }
 ],
 "metadata": {
  "kernelspec": {
   "display_name": "Python 3 (ipykernel)",
   "language": "python",
   "name": "python3"
  },
  "language_info": {
   "codemirror_mode": {
    "name": "ipython",
    "version": 3
   },
   "file_extension": ".py",
   "mimetype": "text/x-python",
   "name": "python",
   "nbconvert_exporter": "python",
   "pygments_lexer": "ipython3",
   "version": "3.8.8"
  }
 },
 "nbformat": 4,
 "nbformat_minor": 5
}
