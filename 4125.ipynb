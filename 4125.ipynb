{
 "cells": [
  {
   "cell_type": "code",
   "execution_count": 78,
   "id": "31b83595",
   "metadata": {},
   "outputs": [],
   "source": [
    "import mysql.connector\n",
    "#from mechanize import Browser\n",
    "#br = Browser()\n",
    "import asyncio\n",
    "from chatgpt_wrapper import ChatGPT"
   ]
  },
  {
   "cell_type": "code",
   "execution_count": 68,
   "id": "9f4d66e9",
   "metadata": {},
   "outputs": [],
   "source": [
    "#cnx = mysql.connector.connect(user='root', password='Tootie2001',\n",
    "                              #host='localhost',\n",
    "                              #database='capstone')\n",
    "#cursor = cnx.cursor()"
   ]
  },
  {
   "cell_type": "code",
   "execution_count": 69,
   "id": "d753ade7",
   "metadata": {},
   "outputs": [],
   "source": [
    "#query = (\"SELECT * FROM customer\")\n",
    "#print(cursor.execute(query))"
   ]
  },
  {
   "cell_type": "code",
   "execution_count": 70,
   "id": "afa0b59e",
   "metadata": {},
   "outputs": [],
   "source": [
    "#cursor.close()\n",
    "#cnx.close()"
   ]
  },
  {
   "cell_type": "code",
   "execution_count": 71,
   "id": "802f43a6",
   "metadata": {},
   "outputs": [],
   "source": [
    "cnx = mysql.connector.connect(user='root',password='Tootie2001', database='capstone')"
   ]
  },
  {
   "cell_type": "code",
   "execution_count": 72,
   "id": "a6e169e9",
   "metadata": {},
   "outputs": [],
   "source": [
    "cursor = cnx.cursor()\n",
    "query = (\"SELECT Fname, Lname, phone FROM customer\")\n",
    "cursor.execute(query)"
   ]
  },
  {
   "cell_type": "code",
   "execution_count": 73,
   "id": "19bdfcc7",
   "metadata": {},
   "outputs": [
    {
     "name": "stdout",
     "output_type": "stream",
     "text": [
      "Doe, John Phone: 404.968.5181 \n"
     ]
    }
   ],
   "source": [
    "for (Fname,Lname,phone) in cursor:\n",
    "    print(\"{}, {} Phone: {} \".format(\n",
    "    Lname, Fname, phone))"
   ]
  },
  {
   "cell_type": "code",
   "execution_count": 74,
   "id": "07c0c8d3",
   "metadata": {},
   "outputs": [],
   "source": [
    "cursor.close()\n",
    "cnx.close()"
   ]
  },
  {
   "cell_type": "code",
   "execution_count": 76,
   "id": "366b1aa0",
   "metadata": {
    "collapsed": true
   },
   "outputs": [
    {
     "name": "stdout",
     "output_type": "stream",
     "text": [
      "<coroutine object ChatGPT.ask at 0x7f77d4180ac0>\n"
     ]
    },
    {
     "name": "stderr",
     "output_type": "stream",
     "text": [
      "/var/folders/8z/rbhct03j6clgzny2dgqsbqt80000gn/T/ipykernel_59984/1192146596.py:3: RuntimeWarning: coroutine 'ChatGPT.ask' was never awaited\n",
      "  response = bot.ask(\"tell me a story about cats and dogs\")\n",
      "RuntimeWarning: Enable tracemalloc to get the object allocation traceback\n"
     ]
    }
   ],
   "source": [
    "#bot = ChatGPT()\n",
    "# return the full result\n",
    "#response = bot.ask(\"tell me a story about cats and dogs\")\n",
    "#print(response)"
   ]
  },
  {
   "cell_type": "code",
   "execution_count": 89,
   "id": "7ae0ac63",
   "metadata": {},
   "outputs": [
    {
     "name": "stdout",
     "output_type": "stream",
     "text": [
      "If you're in the mood for some delicious pizza, City Slice is definitely worth a visit. The atmosphere of the restaurant is excellent, with a cozy and inviting ambiance that makes you feel right at home.\n",
      "\n",
      "One of the things that impressed me most about City Slice was the portion sizes. The slices of pizza are generous and satisfying, ensuring that you won't leave feeling hungry. The quality of the pizza itself is also top-notch, with a crispy crust and a delicious sauce that perfectly complements the toppings.\n",
      "\n",
      "Another great thing about City Slice is that there were no wait times when I visited. I was able to walk right in and find a seat immediately, which was great since I was really hungry and didn't want to wait around for a table. The waiters were also really nice and attentive, making sure that everything was to my liking and that I had everything I needed.\n",
      "\n",
      "All in all, I had a fantastic experience at City Slice. If you're looking for a great pizza place with an excellent atmosphere, good portion sizes, and friendly waitstaff, this is definitely the place to go. I highly recommend it!\n"
     ]
    }
   ],
   "source": [
    "inlist = ['City Slice','Excellent atmosphere','Good portion sizes','No wait times','Waiters were nice']\n",
    "bot = ChatGPT()\n",
    "response = asyncio.run(bot.ask(\"Write me a resturant review, written for {} based on these keywords {},{},{},{}\".format(*(x for x in inlist))))\n",
    "print(response)"
   ]
  },
  {
   "cell_type": "code",
   "execution_count": null,
   "id": "ba77f117",
   "metadata": {},
   "outputs": [],
   "source": [
    "#GUI Generation \n",
    "    #User input \n",
    "        #chat.gpt() and asyncio inputs - FIGURE SYNTAX\n",
    "        #MySQL read-in for storage \n",
    "            #return approval prompt \n",
    "            #if yes, send email FIGURE OUT EMAIL DISTRIBUTION \n",
    "            #if no, re-run inputs FIGURE OUT SQL OVERWRITE"
   ]
  }
 ],
 "metadata": {
  "kernelspec": {
   "display_name": "Python 3 (ipykernel)",
   "language": "python",
   "name": "python3"
  },
  "language_info": {
   "codemirror_mode": {
    "name": "ipython",
    "version": 3
   },
   "file_extension": ".py",
   "mimetype": "text/x-python",
   "name": "python",
   "nbconvert_exporter": "python",
   "pygments_lexer": "ipython3",
   "version": "3.8.8"
  }
 },
 "nbformat": 4,
 "nbformat_minor": 5
}
