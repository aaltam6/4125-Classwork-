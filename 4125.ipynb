{
 "cells": [
  {
   "cell_type": "code",
   "execution_count": 1,
   "id": "31b83595",
   "metadata": {},
   "outputs": [],
   "source": [
    "import mysql.connector\n",
    "#from mechanize import Browser\n",
    "#br = Browser()\n",
    "import asyncio\n",
    "from chatgpt_wrapper import ChatGPT\n",
    "import tkinter as tk\n",
    "from tkinter import messagebox\n",
    "from tkinter import *"
   ]
  },
  {
   "cell_type": "code",
   "execution_count": null,
   "id": "9f4d66e9",
   "metadata": {},
   "outputs": [],
   "source": [
    "#cnx = mysql.connector.connect(user='root', password='Tootie2001',\n",
    "                              #host='localhost',\n",
    "                              #database='capstone')\n",
    "#cursor = cnx.cursor()"
   ]
  },
  {
   "cell_type": "code",
   "execution_count": null,
   "id": "d753ade7",
   "metadata": {},
   "outputs": [],
   "source": [
    "#query = (\"SELECT * FROM customer\")\n",
    "#print(cursor.execute(query))"
   ]
  },
  {
   "cell_type": "code",
   "execution_count": null,
   "id": "afa0b59e",
   "metadata": {},
   "outputs": [],
   "source": [
    "#cursor.close()\n",
    "#cnx.close()"
   ]
  },
  {
   "cell_type": "code",
   "execution_count": null,
   "id": "802f43a6",
   "metadata": {},
   "outputs": [],
   "source": [
    "#cnx = mysql.connector.connect(user='root',password='Tootie2001', database='capstone')"
   ]
  },
  {
   "cell_type": "code",
   "execution_count": null,
   "id": "a6e169e9",
   "metadata": {},
   "outputs": [],
   "source": [
    "#cursor = cnx.cursor()\n",
    "#query =(\"INSERT INTO customer\"\n",
    "        #\"(CustomerID,Fname,Lname)\"\n",
    "        #\"VALUES ('C999','Eric','Ross')\")\n",
    "#cursor.execute(query)\n",
    "#query2 = (\"SELECT CustomerID,Fname,Lname FROM customer\")\n",
    "#cursor.execute(query2)"
   ]
  },
  {
   "cell_type": "code",
   "execution_count": null,
   "id": "19bdfcc7",
   "metadata": {},
   "outputs": [],
   "source": [
    "#for (CustomerID,Fname,Lname) in cursor:\n",
    "    #print(\"CustID: {}, {}, {}  \".format(\n",
    "    #CustomerID,Fname,Lname))"
   ]
  },
  {
   "cell_type": "code",
   "execution_count": null,
   "id": "07c0c8d3",
   "metadata": {},
   "outputs": [],
   "source": [
    "#cursor.close()\n",
    "#cnx.close()"
   ]
  },
  {
   "cell_type": "code",
   "execution_count": null,
   "id": "366b1aa0",
   "metadata": {},
   "outputs": [],
   "source": [
    "#bot = ChatGPT()\n",
    "# return the full result\n",
    "#response = bot.ask(\"tell me a story about cats and dogs\")\n",
    "#print(response)"
   ]
  },
  {
   "cell_type": "code",
   "execution_count": null,
   "id": "7ae0ac63",
   "metadata": {},
   "outputs": [],
   "source": [
    "#inlist = ['City Slice','Excellent atmosphere','Good portion sizes','No wait times','Waiters were nice']\n",
    "#bot = ChatGPT()\n",
    "#response = asyncio.run(bot.ask(\"Assume your name is John Wittmore. Write me a resturant review, written for {} resturant based on these keywords {},{},{},{}\".format(*(x for x in inlist))))\n",
    "#print(response)"
   ]
  },
  {
   "cell_type": "code",
   "execution_count": null,
   "id": "ba77f117",
   "metadata": {},
   "outputs": [],
   "source": [
    "#GUI Generation \n",
    "    #User input \n",
    "        #chat.gpt() and asyncio inputs\n",
    "        #MySQL read-in for storage \n",
    "            #return approval prompt \n",
    "            #if yes, send email FIGURE OUT EMAIL DISTRIBUTION \n",
    "            #if no, re-run inputs."
   ]
  },
  {
   "cell_type": "code",
   "execution_count": null,
   "id": "6538f88d",
   "metadata": {},
   "outputs": [],
   "source": [
    "#def approve(response,loc,order,name):\n",
    "        #cnx = mysql.connector.connect(user='root',password='Tootie2001', database='target')\n",
    "        #cursor = cnx.cursor()\n",
    "        #(\"INSERT INTO favourite (number, info) VALUES (%s, %s)\", (numbers, animals))\n",
    "        #query =(\"INSERT INTO mealExp(feedback,itemOrdered,custName,location) VALUES (%(x)s,%(y)s,%(z)s,%(w)s)\")\n",
    "        #values = {'x':'response','y':'order','z':'name','w':'loc'}\n",
    "        #cursor.execute(query,values)\n",
    "        #cursor.close()\n",
    "        #cnx.commit()\n",
    "        #cnx.close()"
   ]
  },
  {
   "cell_type": "code",
   "execution_count": null,
   "id": "ecf5d5ed",
   "metadata": {},
   "outputs": [],
   "source": [
    "#response = 'Very Good Very Good!'\n",
    "#order = 'Pizza'\n",
    "#name = 'Ray Allen'\n",
    "#loc = 'City Slice'"
   ]
  },
  {
   "cell_type": "code",
   "execution_count": null,
   "id": "acac614f",
   "metadata": {},
   "outputs": [],
   "source": [
    "#cnx = mysql.connector.connect(user='root',password='Tootie2001', database='target')\n",
    "#cursor = cnx.cursor()\n",
    "#(\"INSERT INTO favourite (number, info) VALUES (%s, %s)\", (numbers, animals))\n",
    "#query =(\"INSERT INTO mealExp(feedback,itemOrdered,custName,location) VALUES (%(x)s,%(y)s,%(z)s,%(w)s)\")\n",
    "#values = {'x':'response','y':'order','z':'name','w':'loc'}\n",
    "#cursor.execute(query,values)\n",
    "#cursor.close()\n",
    "#cnx.commit()\n",
    "#cnx.close()"
   ]
  },
  {
   "cell_type": "code",
   "execution_count": 2,
   "id": "bbf50bb3",
   "metadata": {
    "scrolled": true
   },
   "outputs": [
    {
     "name": "stdout",
     "output_type": "stream",
     "text": [
      "Nice!,Pizza,Artie Altie,City Slice\n",
      "Good,Pizza,Ray Allen,City Slice\n",
      "response,order,name,loc\n",
      "City Slice is an outstanding restaurant that impresses with great flavor and excellent service. The food is delicious and prepared with care, with a variety of options to satisfy all tastes. The waiters are friendly and attentive, making the dining experience even more enjoyable. Overall, City Slice is a fantastic restaurant that delivers both in taste and service.,BBQ Pizza,Chris Bobbie,City Slice\n",
      "City Pork is a must-visit restaurant for anyone who loves delicious food and great beer. The menu offers a fantastic selection of dishes that are bursting with a great smoky flavor, and the meat is incredibly tender. Additionally, the restaurant boasts an impressive beer selection that perfectly complements the food. Overall, City Pork is a great spot to enjoy a satisfying and flavorful meal.,Ribs 6 Count,Ray Williams,City Pork\n",
      "If you're looking for a great place to grab a slice of pizza and catch the game, City Slice is definitely worth checking out. The crust on their pizza is delicious and the staff is friendly and welcoming. The atmosphere is lively, with plenty of sports on the TV and a fun, energetic vibe. All in all, City Slice is a great spot for a casual night out with friends or family.,Cheese Pizza,Prith Abarth ,City Slice\n"
     ]
    }
   ],
   "source": [
    "cnx = mysql.connector.connect(user='root',password='Tootie2001', database='target')\n",
    "cursor = cnx.cursor()\n",
    "query2 = (\"SELECT Feedback,ItemOrdered,CustName,Location FROM mealExp\")\n",
    "cursor.execute(query2)\n",
    "for (Feedback,ItemOrdered,CustName,Location) in cursor:\n",
    "    print(\"{},{},{},{}\".format(\n",
    "    Feedback,ItemOrdered,CustName,Location))\n",
    "cursor.close()\n",
    "cnx.close()"
   ]
  },
  {
   "cell_type": "code",
   "execution_count": null,
   "id": "3496f4a5",
   "metadata": {},
   "outputs": [
    {
     "name": "stderr",
     "output_type": "stream",
     "text": [
      "2023-02-28 22:14:47.446 python[80087:4626661] Warning: Expected min height of view: (<NSButton: 0x7f862237eb30>) to be less than or equal to 30 but got a height of 32.000000. This error will be logged once per view in violation.\n",
      "2023-02-28 22:14:47.447 python[80087:4626661] Warning: Expected min height of view: (<NSButton: 0x7f8621e70360>) to be less than or equal to 30 but got a height of 32.000000. This error will be logged once per view in violation.\n",
      "2023-02-28 22:16:53.872 python[80087:4626661] Warning: Expected min height of view: (<NSButton: 0x7f862238cf60>) to be less than or equal to 30 but got a height of 32.000000. This error will be logged once per view in violation.\n",
      "2023-02-28 22:16:53.873 python[80087:4626661] Warning: Expected min height of view: (<NSButton: 0x7f86219763d0>) to be less than or equal to 30 but got a height of 32.000000. This error will be logged once per view in violation.\n"
     ]
    }
   ],
   "source": [
    "def __main__(): \n",
    "    window=tk.Tk()\n",
    "    window.geometry(\"1600x800\")\n",
    "    window.title(\"City Group Inputs\")\n",
    "    \n",
    "    location_name = tk.Label(text = \"Enter location.\")\n",
    "    location_name.grid(column=0,row=1)\n",
    "    \n",
    "    manager_name = tk.Label(text = \"Enter your name.\")\n",
    "    manager_name.grid(column=0,row=2)\n",
    "    \n",
    "    customer_name = tk.Label(text = \"Enter the name of the customer\")\n",
    "    customer_name.grid(column=0,row=3)\n",
    "    \n",
    "    order_name = tk.Label(text = \"Enter order.\")\n",
    "    order_name.grid(column=0,row=4)\n",
    "    \n",
    "    descriptor_1 = tk.Label(text = \"Please enter the first descriptor\")\n",
    "    descriptor_1.grid(column=0,row=5)\n",
    "    \n",
    "    descriptor_2 = tk.Label(text = \"Please enter the second descriptor\")\n",
    "    descriptor_2.grid(column=0,row=6)\n",
    "    \n",
    "    descriptor_3 = tk.Label(text = \"Please enter the third descriptor\")\n",
    "    descriptor_3.grid(column=0,row=7)\n",
    "    \n",
    "    message = tk.Label(text = \"Upon entering, you will be prompted to approve or deny the message to be sent.\")\n",
    "    message.grid(column=0,row=8)\n",
    "\n",
    "    loc_Entry = tk.Entry()\n",
    "    loc_Entry.grid(column=1,row=1)\n",
    "    \n",
    "    man_Entry = tk.Entry()\n",
    "    man_Entry.grid(column=1,row=2)\n",
    "    \n",
    "    cust_Entry = tk.Entry()\n",
    "    cust_Entry.grid(column=1,row=3)\n",
    "    \n",
    "    order_Entry = tk.Entry()\n",
    "    order_Entry.grid(column=1,row=4)\n",
    "    \n",
    "    desc1_Entry = tk.Entry()\n",
    "    desc1_Entry.grid(column=1,row=5)\n",
    "    \n",
    "    desc2_Entry = tk.Entry()\n",
    "    desc2_Entry.grid(column=1,row=6)\n",
    "    \n",
    "    desc3_Entry = tk.Entry()\n",
    "    desc3_Entry.grid(column=1,row=7)\n",
    "    \n",
    "    def approve(response,loc,order,name):\n",
    "        cnx = mysql.connector.connect(user='root',password='Tootie2001', database='target')\n",
    "        cursor = cnx.cursor()\n",
    "        #(\"INSERT INTO favourite (number, info) VALUES (%s, %s)\", (numbers, animals))\n",
    "        query =(\"INSERT INTO mealExp(feedback,itemOrdered,custName,location) VALUES (%(x)s,%(y)s,%(z)s,%(w)s)\")\n",
    "        values = {'x':response,'y':order,'z':name,'w':loc}\n",
    "        cursor.execute(query,values)\n",
    "        cursor.close()\n",
    "        cnx.commit()\n",
    "        cnx.close()\n",
    "    \n",
    "    def operate():\n",
    "        desc_list = [loc_Entry.get(),desc1_Entry.get(),desc2_Entry.get(),desc3_Entry.get()]\n",
    "        bot = ChatGPT()\n",
    "        response = asyncio.run(bot.ask(\"Write a short one paragraph review for a restaurant named {} based on these keywords {},{},{}\".format(*(x for x in desc_list))))\n",
    "        approval = tk.messagebox.askyesno(title='Approval', message=response)\n",
    "        if approval:\n",
    "            approve(response,loc_Entry.get(),order_Entry.get(),cust_Entry.get())\n",
    "        else:\n",
    "            pass\n",
    "\n",
    "    def clear_text():\n",
    "        loc_Entry.delete(0, END)\n",
    "        man_Entry.delete(0,END)\n",
    "        cust_Entry.delete(0, END)\n",
    "        order_Entry.delete(0,END)\n",
    "        desc1_Entry.delete(0, END)\n",
    "        desc2_Entry.delete(0, END)\n",
    "        desc3_Entry.delete(0, END)\n",
    "    \n",
    "    #button=tk.Button(window,text=\"Filter\",command=lambda:[initiator(), clear_text()])\n",
    "    button=tk.Button(window,text=\"Run\",command=lambda:[operate(),clear_text()])\n",
    "    button.grid(column=1,row=8)\n",
    "    #destroy=tk.Button(window, text =\"Quit\", command = window.destroy)\n",
    "    #destroy.grid(column=1,row=8)\n",
    "    \n",
    "    window.mainloop()\n",
    "\n",
    "if __name__ == '__main__':\n",
    "    __main__()"
   ]
  },
  {
   "cell_type": "code",
   "execution_count": null,
   "id": "12d689c2",
   "metadata": {},
   "outputs": [],
   "source": []
  }
 ],
 "metadata": {
  "kernelspec": {
   "display_name": "Python 3 (ipykernel)",
   "language": "python",
   "name": "python3"
  },
  "language_info": {
   "codemirror_mode": {
    "name": "ipython",
    "version": 3
   },
   "file_extension": ".py",
   "mimetype": "text/x-python",
   "name": "python",
   "nbconvert_exporter": "python",
   "pygments_lexer": "ipython3",
   "version": "3.8.8"
  }
 },
 "nbformat": 4,
 "nbformat_minor": 5
}
